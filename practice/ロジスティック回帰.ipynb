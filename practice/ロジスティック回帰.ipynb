{
 "cells": [
  {
   "cell_type": "code",
   "execution_count": 1,
   "metadata": {
    "collapsed": true
   },
   "outputs": [],
   "source": [
    "import tensorflow as tf\n",
    "import numpy as np\n",
    "import matplotlib.pyplot as plt\n",
    "from numpy.random import multivariate_normal, permutation\n",
    "import pandas as pd\n",
    "from pandas import DataFrame, Series"
   ]
  },
  {
   "cell_type": "code",
   "execution_count": 2,
   "metadata": {},
   "outputs": [],
   "source": [
    "np.random.seed(20170921)\n",
    "\n",
    "# tが０のデータを準備する\n",
    "n0, mu0, variance0 = 20, [10,11], 20\n",
    "data0 = multivariate_normal(mu0, np.eye(2)*variance0, n0)\n",
    "df0 = DataFrame(data0, columns=['x1', 'x2'])\n",
    "df0['t'] = 0\n",
    "\n",
    "# tが1のデータを準備する\n",
    "n1, mu1, variance1 = 20, [10,11], 20\n",
    "data1 = multivariate_normal(mu1, np.eye(2)*variance1, n1)\n",
    "df1 = DataFrame(data1, columns=['x1', 'x2'])\n",
    "df1['t'] = 1\n",
    "\n",
    "# tが1のものと0のものとを統合\n",
    "df = pd.concat([df0, df1], ignore_index=True)\n",
    "# 順番をランダムに並び替え\n",
    "train_set = df.reindex(permutation(df.index)).reset_index(drop=True)"
   ]
  },
  {
   "cell_type": "code",
   "execution_count": 3,
   "metadata": {},
   "outputs": [],
   "source": [
    "# pandasのデータフレームから入力値と正解値を別々の配列として取り出す\n",
    "train_x = train_set[['x1', 'x2']].as_matrix()\n",
    "train_t = train_set['t'].as_matrix().reshape([len(train_set), 1])"
   ]
  },
  {
   "cell_type": "code",
   "execution_count": 4,
   "metadata": {},
   "outputs": [],
   "source": [
    "with tf.name_scope('X'):\n",
    "    x = tf.placeholder(tf.float32, [None, 2])\n",
    "with tf.name_scope('W'):\n",
    "    w = tf.Variable(tf.zeros([2,1]))\n",
    "with tf.name_scope('B'):\n",
    "    b = tf.Variable(tf.zeros([1]))\n",
    "with tf.name_scope('f'):\n",
    "    f = tf.matmul(x, w) + b\n",
    "with tf.name_scope('P'):\n",
    "    p = tf.sigmoid(f)\n",
    "with tf.name_scope('T'):\n",
    "    t = tf.placeholder(tf.float32, [None, 1])\n",
    "sess = tf.Session()"
   ]
  },
  {
   "cell_type": "code",
   "execution_count": 5,
   "metadata": {},
   "outputs": [],
   "source": [
    "with tf.name_scope('loss'):\n",
    "    loss = -tf.reduce_sum(t*tf.log(p) + (1-t)*tf.log(1-p))\n",
    "with tf.name_scope('train'):\n",
    "    train_step = tf.train.AdamOptimizer().minimize(loss)"
   ]
  },
  {
   "cell_type": "code",
   "execution_count": 6,
   "metadata": {
    "collapsed": true
   },
   "outputs": [],
   "source": [
    "with tf.name_scope('accuracy'):\n",
    "    correct_prediction = tf.equal(tf.sign(p-0.5), tf.sign(t-0.5))\n",
    "    accuracy = tf.reduce_mean(tf.cast(correct_prediction, tf.float32))"
   ]
  },
  {
   "cell_type": "code",
   "execution_count": 7,
   "metadata": {
    "collapsed": true
   },
   "outputs": [],
   "source": [
    "# TensorBoardで追跡する変数を定義\n",
    "with tf.name_scope('summary'):\n",
    "    tf.summary.scalar('accuracy', accuracy)\n",
    "    tf.summary.scalar('loss', loss)\n",
    "    merged = tf.summary.merge_all()\n",
    "    writer = tf.summary.FileWriter('./logs', sess.graph)"
   ]
  },
  {
   "cell_type": "code",
   "execution_count": 8,
   "metadata": {},
   "outputs": [
    {
     "name": "stdout",
     "output_type": "stream",
     "text": [
      "step: 2000, loss: 25.293262, accuracy: 0.675000\n",
      "step: 4000, loss: 25.082136, accuracy: 0.650000\n",
      "step: 6000, loss: 25.079262, accuracy: 0.625000\n",
      "step: 8000, loss: 25.079262, accuracy: 0.625000\n",
      "step: 10000, loss: 25.079262, accuracy: 0.625000\n",
      "step: 12000, loss: 25.079262, accuracy: 0.625000\n",
      "step: 14000, loss: 25.079262, accuracy: 0.625000\n",
      "step: 16000, loss: 25.079266, accuracy: 0.625000\n",
      "step: 18000, loss: 25.079262, accuracy: 0.625000\n",
      "step: 20000, loss: 25.079262, accuracy: 0.625000\n"
     ]
    }
   ],
   "source": [
    "sess.run(tf.global_variables_initializer())\n",
    "\n",
    "i = 0\n",
    "for _ in range(20000):\n",
    "    i += 1\n",
    "    __, summary = sess.run([train_step, merged], feed_dict={x: train_x, t: train_t})\n",
    "    if i % 2000 == 0:\n",
    "        loss_val,acc_val = sess.run([loss, accuracy], feed_dict={x: train_x, t: train_t})\n",
    "        writer.add_summary(summary, _)\n",
    "        print('step: %d, loss: %f, accuracy: %f' % (i, loss_val, acc_val))"
   ]
  },
  {
   "cell_type": "code",
   "execution_count": null,
   "metadata": {
    "collapsed": true
   },
   "outputs": [],
   "source": []
  }
 ],
 "metadata": {
  "kernelspec": {
   "display_name": "Python 3",
   "language": "python",
   "name": "python3"
  },
  "language_info": {
   "codemirror_mode": {
    "name": "ipython",
    "version": 3
   },
   "file_extension": ".py",
   "mimetype": "text/x-python",
   "name": "python",
   "nbconvert_exporter": "python",
   "pygments_lexer": "ipython3",
   "version": "3.6.1"
  }
 },
 "nbformat": 4,
 "nbformat_minor": 2
}
