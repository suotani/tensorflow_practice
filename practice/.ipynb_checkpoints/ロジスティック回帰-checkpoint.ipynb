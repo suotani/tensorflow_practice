{
 "cells": [
  {
   "cell_type": "code",
   "execution_count": 1,
   "metadata": {
    "collapsed": true
   },
   "outputs": [],
   "source": [
    "import tensorflow as tf\n",
    "import numpy as np\n",
    "import matplotlib.pyplot as plt\n",
    "from numpy.random import multivariate_normal, permutation\n",
    "import pandas as pd\n",
    "from pandas import DataFrame, Series\n",
    "%matplotlib inline"
   ]
  },
  {
   "cell_type": "code",
   "execution_count": 2,
   "metadata": {
    "collapsed": true
   },
   "outputs": [],
   "source": [
    "np.random.seed(20170921)\n",
    "\n",
    "# tが０のデータを準備する\n",
    "n0, mu0, variance0 = 80, [10, 11], 20\n",
    "data0 = multivariate_normal(mu0, np.eye(2)*variance0, n0)\n",
    "df0 = DataFrame(data0, columns=['x1', 'x2'])\n",
    "df0['t'] = 0\n",
    "\n",
    "# tが1のデータを準備する\n",
    "n1, mu1, variance1 = 60, [18, 20], 22\n",
    "data1 = multivariate_normal(mu1, np.eye(2)*variance1, n1)\n",
    "df1 = DataFrame(data1, columns=['x1', 'x2'])\n",
    "df1['t'] = 1\n",
    "\n",
    "# tが1のものと0のものとを統合\n",
    "df = pd.concat([df0, df1], ignore_index=True)\n",
    "# 順番をランダムに並び替え\n",
    "train_set = df.reindex(permutation(df.index)).reset_index(drop=True)"
   ]
  },
  {
   "cell_type": "code",
   "execution_count": 3,
   "metadata": {
    "collapsed": true
   },
   "outputs": [],
   "source": [
    "# pandasのデータフレームから入力値と正解値を別々の配列として取り出す\n",
    "train_x = train_set[['x1', 'x2']].as_matrix()\n",
    "train_t = train_set['t'].as_matrix().reshape([len(train_set), 1])"
   ]
  },
  {
   "cell_type": "code",
   "execution_count": 4,
   "metadata": {
    "collapsed": true
   },
   "outputs": [],
   "source": [
    "with tf.name_scope('X'):\n",
    "    x = tf.placeholder(tf.float32, [None, 2])\n",
    "with tf.name_scope('W'):\n",
    "    w = tf.Variable(tf.zeros([2,1]))\n",
    "with tf.name_scope('B'):\n",
    "    b = tf.Variable(tf.zeros([1]))\n",
    "with tf.name_scope('f'):\n",
    "    f = tf.matmul(x, w) + b\n",
    "with tf.name_scope('P'):\n",
    "    p = tf.sigmoid(f)\n",
    "with tf.name_scope('T'):\n",
    "    t = tf.placeholder(tf.float32, [None, 1])\n",
    "sess = tf.Session()"
   ]
  },
  {
   "cell_type": "code",
   "execution_count": 5,
   "metadata": {
    "collapsed": true
   },
   "outputs": [],
   "source": [
    "with tf.name_scope('loss'):\n",
    "    loss = -tf.reduce_sum(t*tf.log(p) + (1-t)*tf.log(1-p))\n",
    "with tf.name_scope('train'):\n",
    "    train_step = tf.train.AdamOptimizer().minimize(loss)"
   ]
  },
  {
   "cell_type": "code",
   "execution_count": 6,
   "metadata": {
    "collapsed": true
   },
   "outputs": [],
   "source": [
    "with tf.name_scope('accuracy'):\n",
    "    correct_prediction = tf.equal(tf.sign(p-0.5), tf.sign(t-0.5))\n",
    "    accuracy = tf.reduce_mean(tf.cast(correct_prediction, tf.float32))"
   ]
  },
  {
   "cell_type": "code",
   "execution_count": 7,
   "metadata": {
    "collapsed": true
   },
   "outputs": [],
   "source": [
    "# TensorBoardで追跡する変数を定義\n",
    "with tf.name_scope('summary'):\n",
    "    tf.summary.scalar('accuracy', accuracy)\n",
    "    tf.summary.scalar('loss', loss)\n",
    "    merged = tf.summary.merge_all()\n",
    "    writer = tf.summary.FileWriter('./logs', sess.graph)"
   ]
  },
  {
   "cell_type": "code",
   "execution_count": 8,
   "metadata": {},
   "outputs": [
    {
     "name": "stdout",
     "output_type": "stream",
     "text": [
      "step: 10000, loss: 39.414062, accuracy: 0.921429\n",
      "step: 20000, loss: 31.770250, accuracy: 0.928571\n",
      "step: 30000, loss: 28.867899, accuracy: 0.928571\n",
      "step: 40000, loss: 27.375385, accuracy: 0.928571\n",
      "step: 50000, loss: 26.486553, accuracy: 0.928571\n"
     ]
    }
   ],
   "source": [
    "sess.run(tf.global_variables_initializer())\n",
    "\n",
    "i = 0\n",
    "for _ in range(20000):\n",
    "    i += 1\n",
    "    __, summary = sess.run([train_step, merged], feed_dict={x: train_x, t: train_t})\n",
    "    writer.add_summary(summary, _)\n",
    "    if i % 2000 == 0:\n",
    "        loss_val,acc_val = sess.run([loss, accuracy], feed_dict={x: train_x, t: train_t})\n",
    "        print('step: %d, loss: %f, accuracy: %f' % (i, loss_val, acc_val))"
   ]
  },
  {
   "cell_type": "code",
   "execution_count": 9,
   "metadata": {},
   "outputs": [
    {
     "data": {
      "text/plain": [
       "[<matplotlib.lines.Line2D at 0xd98edd8>]"
      ]
     },
     "execution_count": 9,
     "metadata": {},
     "output_type": "execute_result"
    },
    {
     "data": {
      "image/png": "[encoded data removed]",
      "text/plain": [
       "<matplotlib.figure.Figure at 0xd456550>"
      ]
     },
     "metadata": {},
     "output_type": "display_data"
    }
   ],
   "source": [
    "plt.scatter(df0['x1'], df0['x2'], marker=\"o\")\n",
    "plt.scatter(df1['x1'], df1['x2'], marker=\"x\")\n",
    "w_val = sess.run(w)\n",
    "b_val = sess.run(b)\n",
    "linex = np.linspace(0,35,100)\n",
    "liney = -(w_val[0][0]/w_val[1][0]) * linex - b_val[0]/w_val[1][0]\n",
    "plt.plot(linex, liney)"
   ]
  },
  {
   "cell_type": "code",
   "execution_count": 10,
   "metadata": {},
   "outputs": [
    {
     "data": {
      "text/plain": [
       "array([-14.28617477], dtype=float32)"
      ]
     },
     "execution_count": 10,
     "metadata": {},
     "output_type": "execute_result"
    }
   ],
   "source": [
    "b_val"
   ]
  }
 ],
 "metadata": {
  "kernelspec": {
   "display_name": "Python 3",
   "language": "python",
   "name": "python3"
  },
  "language_info": {
   "codemirror_mode": {
    "name": "ipython",
    "version": 3
   },
   "file_extension": ".py",
   "mimetype": "text/x-python",
   "name": "python",
   "nbconvert_exporter": "python",
   "pygments_lexer": "ipython3",
   "version": "3.6.1"
  }
 },
 "nbformat": 4,
 "nbformat_minor": 2
}
