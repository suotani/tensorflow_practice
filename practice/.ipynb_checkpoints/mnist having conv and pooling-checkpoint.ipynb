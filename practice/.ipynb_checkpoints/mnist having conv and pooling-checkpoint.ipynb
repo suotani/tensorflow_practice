{
 "cells": [
  {
   "cell_type": "code",
   "execution_count": 1,
   "metadata": {},
   "outputs": [
    {
     "name": "stdout",
     "output_type": "stream",
     "text": [
      "Extracting ./data/train-images-idx3-ubyte.gz\n",
      "Extracting ./data/train-labels-idx1-ubyte.gz\n",
      "Extracting ./data/t10k-images-idx3-ubyte.gz\n",
      "Extracting ./data/t10k-labels-idx1-ubyte.gz\n"
     ]
    }
   ],
   "source": [
    "import tensorflow as tf\n",
    "import numpy as np\n",
    "import matplotlib.pyplot as plt\n",
    "from tensorflow.examples.tutorials.mnist import input_data\n",
    "%matplotlib inline\n",
    "\n",
    "np.random.seed(20171001)\n",
    "tf.set_random_seed(20171001)\n",
    "mnist = input_data.read_data_sets(\"./data/\", one_hot=True)"
   ]
  },
  {
   "cell_type": "code",
   "execution_count": 2,
   "metadata": {
    "collapsed": true
   },
   "outputs": [],
   "source": [
    "cfilter_size = 16\n",
    "\n",
    "with tf.name_scope('Input'):\n",
    "    x = tf.placeholder(tf.float32, [None, 784])\n",
    "    x_image = tf.reshape(x, [-1,28,28,1])\n",
    "with tf.name_scope('Conv'):\n",
    "    cfilter = tf.Variable(tf.truncated_normal([5,5,1,cfilter_size],stddev=0.1))\n",
    "    cfiltered = tf.nn.conv2d(x_image, cfilter, strides=[1,1,1,1], padding='SAME')\n",
    "with tf.name_scope('Pooling'):\n",
    "    pfiltered = tf.nn.max_pool(cfiltered, ksize=[1,2,2,1], strides=[1,2,2,1], padding='SAME')"
   ]
  },
  {
   "cell_type": "code",
   "execution_count": 3,
   "metadata": {
    "collapsed": true
   },
   "outputs": [],
   "source": [
    "input_size = 14*14*cfilter_size\n",
    "hidden_size = 1024\n",
    "\n",
    "with tf.name_scope('Hidden'):\n",
    "    pfiltered_flat = tf.reshape(pfiltered, [-1, 14*14*cfilter_size])\n",
    "    w1 = tf.Variable(tf.truncated_normal([input_size, hidden_size]))\n",
    "    b1 = tf.Variable(tf.zeros([hidden_size]))\n",
    "    z = tf.nn.relu(tf.matmul(pfiltered_flat, w1) + b1)\n",
    "with tf.name_scope('Output'):\n",
    "    w0 = tf.Variable(tf.zeros([hidden_size, 10]))\n",
    "    b0 = tf.Variable(tf.zeros([10]))\n",
    "    p = tf.nn.softmax(tf.matmul(z, w0) + b0)\n",
    "\n",
    "with tf.name_scope('T'):\n",
    "    t = tf.placeholder(tf.float32, [None, 10])"
   ]
  },
  {
   "cell_type": "code",
   "execution_count": 4,
   "metadata": {
    "collapsed": true
   },
   "outputs": [],
   "source": [
    "with tf.name_scope('Loss'):\n",
    "    loss = -tf.reduce_sum(t * tf.log(p))\n",
    "with tf.name_scope('Train'):\n",
    "    train_step = tf.train.AdamOptimizer().minimize(loss)\n",
    "with tf.name_scope('Acc'):\n",
    "    correct_prediction =  tf.equal(tf.argmax(p, 1), tf.argmax(t, 1))\n",
    "    accuracy = tf.reduce_mean(tf.cast(correct_prediction, tf.float32))"
   ]
  },
  {
   "cell_type": "code",
   "execution_count": 5,
   "metadata": {
    "collapsed": true
   },
   "outputs": [],
   "source": [
    "sess = tf.InteractiveSession()\n",
    "with tf.name_scope('summary'):\n",
    "    tf.summary.scalar('accuracy', accuracy)\n",
    "    tf.summary.scalar('loss', loss)\n",
    "    merged = tf.summary.merge_all()\n",
    "    writer = tf.summary.FileWriter('./logs', sess.graph)"
   ]
  },
  {
   "cell_type": "code",
   "execution_count": 6,
   "metadata": {},
   "outputs": [
    {
     "name": "stdout",
     "output_type": "stream",
     "text": [
      "step: 0, loss: 184.190430, acc: 0.400000, test: 0.200100\n",
      "step: 100, loss: 22.369581, acc: 0.950000, test: 0.937300\n",
      "step: 200, loss: 6.319028, acc: 0.980000, test: 0.956400\n",
      "step: 300, loss: 18.047178, acc: 0.950000, test: 0.963100\n",
      "step: 400, loss: 10.422319, acc: 0.980000, test: 0.965400\n",
      "step: 500, loss: 7.943065, acc: 0.990000, test: 0.969600\n",
      "step: 600, loss: 4.390870, acc: 0.990000, test: 0.971300\n",
      "step: 700, loss: 4.522155, acc: 0.970000, test: 0.973800\n",
      "step: 800, loss: 2.861604, acc: 0.990000, test: 0.974400\n",
      "step: 900, loss: 3.363157, acc: 0.990000, test: 0.977300\n",
      "step: 1000, loss: 5.544255, acc: 0.980000, test: 0.972100\n",
      "step: 1100, loss: 6.916174, acc: 0.970000, test: 0.972000\n",
      "step: 1200, loss: 2.125087, acc: 0.990000, test: 0.979600\n",
      "step: 1300, loss: 0.972790, acc: 1.000000, test: 0.980200\n",
      "step: 1400, loss: 1.404454, acc: 1.000000, test: 0.980500\n",
      "step: 1500, loss: 1.012322, acc: 1.000000, test: 0.976300\n",
      "step: 1600, loss: 9.178900, acc: 0.970000, test: 0.977600\n",
      "step: 1700, loss: 1.078083, acc: 1.000000, test: 0.978900\n",
      "step: 1800, loss: 0.573394, acc: 1.000000, test: 0.982900\n",
      "step: 1900, loss: 0.334141, acc: 1.000000, test: 0.978100\n"
     ]
    }
   ],
   "source": [
    "sess.run(tf.global_variables_initializer())\n",
    "train_p = []\n",
    "test_p = []\n",
    "steps = []\n",
    "i = 0\n",
    "for _ in range(2000):\n",
    "    batch_xs, batch_ts = mnist.train.next_batch(100)\n",
    "    __, summary = sess.run([train_step, merged], feed_dict={x: batch_xs, t: batch_ts})\n",
    "    \n",
    "    if i % 100 == 0:\n",
    "        loss_val, acc_val = sess.run([loss, accuracy], feed_dict = {x: batch_xs, t: batch_ts})\n",
    "        train_p.append(acc_val)\n",
    "        test_p.append(sess.run(accuracy, feed_dict={x: mnist.test.images, t: mnist.test.labels}))\n",
    "        steps.append(i/100)\n",
    "        test_acc = sess.run(accuracy, feed_dict={x: mnist.test.images, t: mnist.test.labels})\n",
    "        writer.add_summary(summary, _)\n",
    "        print(\"step: %d, loss: %f, acc: %f, test: %f\" % (i, loss_val, acc_val, test_acc))\n",
    "    i += 1"
   ]
  },
  {
   "cell_type": "code",
   "execution_count": 8,
   "metadata": {},
   "outputs": [
    {
     "data": {
      "text/plain": [
       "[<matplotlib.lines.Line2D at 0x10be7630>]"
      ]
     },
     "execution_count": 8,
     "metadata": {},
     "output_type": "execute_result"
    },
    {
     "data": {
      "image/png": "[encoded data removed]",
      "text/plain": [
       "<matplotlib.figure.Figure at 0x10be7978>"
      ]
     },
     "metadata": {},
     "output_type": "display_data"
    }
   ],
   "source": [
    "plt.plot(steps, train_p)\n",
    "plt.plot(steps, test_p)"
   ]
  },
  {
   "cell_type": "code",
   "execution_count": 23,
   "metadata": {},
   "outputs": [
    {
     "name": "stdout",
     "output_type": "stream",
     "text": [
      "1.0\n"
     ]
    },
    {
     "data": {
      "image/png": "[encoded data removed]",
      "text/plain": [
       "<matplotlib.figure.Figure at 0x127708d0>"
      ]
     },
     "metadata": {},
     "output_type": "display_data"
    }
   ],
   "source": [
    "from PIL import Image\n",
    "import os\n",
    "filenames = os.listdir('./sample/test_samples')\n",
    "c = 1\n",
    "fig = plt.figure(figsize=(6, 5))\n",
    "labels = []\n",
    "imgs = []\n",
    "for name in filenames:\n",
    "    img = Image.open(\"./sample/test_samples/\" + name).convert('L')\n",
    "    img.thumbnail((28, 28))\n",
    "    img = np.array(img, dtype=np.float32)\n",
    "    img = 1-np.array(img / 255)\n",
    "    img = img.reshape(1, 784)\n",
    "    imgs.append(img)\n",
    "    label = np.array([0,0,0,0,0,0,0,0,0,0])\n",
    "    label[c-1] = 1\n",
    "    labels.append(label)\n",
    "    test_p = sess.run(p, feed_dict={x: img})\n",
    "    subplot = fig.add_subplot(2, 5, c)\n",
    "    subplot.set_xticks([])\n",
    "    subplot.set_yticks([])\n",
    "    subplot.set_title('%d' % (np.argmax(test_p)))\n",
    "    subplot.imshow(img.reshape((28, 28)), vmin=0, vmax = 1, cmap=plt.cm.gray_r, interpolation=\"nearest\")\n",
    "    c += 1\n",
    "print(sess.run(accuracy, feed_dict={x: np.array(imgs).reshape((10, 784)), t: labels}))"
   ]
  },
  {
   "cell_type": "code",
   "execution_count": 24,
   "metadata": {},
   "outputs": [
    {
     "data": {
      "text/plain": [
       "<matplotlib.collections.PathCollection at 0x11015550>"
      ]
     },
     "execution_count": 24,
     "metadata": {},
     "output_type": "execute_result"
    },
    {
     "data": {
      "image/png": "[encoded data removed]",
      "text/plain": [
       "<matplotlib.figure.Figure at 0x129fd080>"
      ]
     },
     "metadata": {},
     "output_type": "display_data"
    }
   ],
   "source": [
    "result_x = [0,1,2,3,4,5,6,7,8,9]\n",
    "result_y = sess.run(p, feed_dict={x: np.array(imgs).reshape((10, 784)), t: labels})[9]\n",
    "plt.scatter(result_x, result_y)"
   ]
  },
  {
   "cell_type": "code",
   "execution_count": 33,
   "metadata": {},
   "outputs": [
    {
     "data": {
      "image/png": "[encoded data removed]",
      "text/plain": [
       "<matplotlib.figure.Figure at 0x146417b8>"
      ]
     },
     "metadata": {},
     "output_type": "display_data"
    }
   ],
   "source": [
    "fil = sess.run(cfilter).reshape([5,5,16]).transpose([2,0,1])\n",
    "c = 1\n",
    "fig = plt.figure(figsize=(8, 3))\n",
    "for f in fil:\n",
    "    flatten_f = f.reshape([25, -1])\n",
    "    flatten_f = flatten_f - flatten_f[np.argmin(f)]\n",
    "    flatten_f = flatten_f / flatten_f[np.argmax(flatten_f)]\n",
    "    test_p = sess.run(p, feed_dict={x: img})\n",
    "    subplot = fig.add_subplot(2, 8, c)\n",
    "    subplot.set_xticks([])\n",
    "    subplot.set_yticks([])\n",
    "    subplot.set_title('%d' % c)\n",
    "    subplot.imshow(flatten_f.reshape((5, 5)), vmin=0, vmax = 1, cmap=plt.cm.gray_r, interpolation=\"nearest\")\n",
    "    c += 1"
   ]
  },
  {
   "cell_type": "code",
   "execution_count": 45,
   "metadata": {},
   "outputs": [
    {
     "data": {
      "image/png": "[encoded data removed]",
      "text/plain": [
       "<matplotlib.figure.Figure at 0x14875b70>"
      ]
     },
     "metadata": {},
     "output_type": "display_data"
    }
   ],
   "source": [
    "filtered_img = sess.run(cfiltered, feed_dict={x: np.array([imgs[9]]).reshape((1, 784))}).reshape([28,28,16]).transpose([2,0,1])\n",
    "c = 1\n",
    "fig = plt.figure(figsize=(6, 3))\n",
    "for f in filtered_img:\n",
    "    flatten_f = f.reshape([784, -1])\n",
    "    flatten_f = flatten_f - flatten_f[np.argmin(f)]\n",
    "    flatten_f = flatten_f / flatten_f[np.argmax(flatten_f)]\n",
    "    test_p = sess.run(p, feed_dict={x: img})\n",
    "    subplot = fig.add_subplot(2, 8, c)\n",
    "    subplot.set_xticks([])\n",
    "    subplot.set_yticks([])\n",
    "    subplot.set_title('%d' % c)\n",
    "    subplot.imshow(flatten_f.reshape((28, 28)), vmin=0, vmax = 1, cmap=plt.cm.gray_r, interpolation=\"nearest\")\n",
    "    c += 1"
   ]
  },
  {
   "cell_type": "code",
   "execution_count": null,
   "metadata": {
    "collapsed": true
   },
   "outputs": [],
   "source": []
  }
 ],
 "metadata": {
  "kernelspec": {
   "display_name": "Python 3",
   "language": "python",
   "name": "python3"
  },
  "language_info": {
   "codemirror_mode": {
    "name": "ipython",
    "version": 3
   },
   "file_extension": ".py",
   "mimetype": "text/x-python",
   "name": "python",
   "nbconvert_exporter": "python",
   "pygments_lexer": "ipython3",
   "version": "3.6.1"
  }
 },
 "nbformat": 4,
 "nbformat_minor": 2
}
