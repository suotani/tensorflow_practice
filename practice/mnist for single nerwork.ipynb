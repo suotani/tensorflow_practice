{
 "cells": [
  {
   "cell_type": "code",
   "execution_count": 1,
   "metadata": {},
   "outputs": [
    {
     "name": "stdout",
     "output_type": "stream",
     "text": [
      "Extracting ./data/train-images-idx3-ubyte.gz\n",
      "Extracting ./data/train-labels-idx1-ubyte.gz\n",
      "Extracting ./data/t10k-images-idx3-ubyte.gz\n",
      "Extracting ./data/t10k-labels-idx1-ubyte.gz\n"
     ]
    }
   ],
   "source": [
    "import tensorflow as tf\n",
    "import numpy as np\n",
    "import matplotlib.pyplot as plt\n",
    "from tensorflow.examples.tutorials.mnist import input_data\n",
    "%matplotlib inline\n",
    "\n",
    "np.random.seed(20171001)\n",
    "tf.set_random_seed(20171001)\n",
    "mnist = input_data.read_data_sets(\"./data/\", one_hot=True)"
   ]
  },
  {
   "cell_type": "code",
   "execution_count": 2,
   "metadata": {
    "collapsed": true
   },
   "outputs": [],
   "source": [
    "hidden_size = 1024\n",
    "with tf.name_scope('X'):\n",
    "    x = tf.placeholder(tf.float32, [None, 784])\n",
    "with tf.name_scope('W'):\n",
    "    w1 = tf.Variable(tf.truncated_normal([784, hidden_size])) #これ重要！\n",
    "with tf.name_scope('b1'):\n",
    "    b1 = tf.Variable(tf.zeros([hidden_size]))\n",
    "with tf.name_scope('Z'):\n",
    "    z = tf.nn.relu(tf.matmul(x, w1) + b1)\n",
    "\n",
    "with tf.name_scope('W'):\n",
    "    w0 = tf.Variable(tf.zeros([hidden_size, 10]))\n",
    "with tf.name_scope('b0'):\n",
    "    b0 = tf.Variable(tf.zeros([10]))\n",
    "with tf.name_scope('P'):\n",
    "    p = tf.nn.softmax(tf.matmul(z, w0) + b0)\n",
    "\n",
    "with tf.name_scope('T'):\n",
    "    t = tf.placeholder(tf.float32, [None, 10])"
   ]
  },
  {
   "cell_type": "code",
   "execution_count": 3,
   "metadata": {
    "collapsed": true
   },
   "outputs": [],
   "source": [
    "with tf.name_scope('Loss'):\n",
    "    loss = -tf.reduce_sum(t * tf.log(p))\n",
    "with tf.name_scope('Train'):\n",
    "    train_step = tf.train.AdamOptimizer().minimize(loss)\n",
    "with tf.name_scope('Acc'):\n",
    "    correct_prediction =  tf.equal(tf.argmax(p, 1), tf.argmax(t, 1))\n",
    "    accuracy = tf.reduce_mean(tf.cast(correct_prediction, tf.float32))"
   ]
  },
  {
   "cell_type": "code",
   "execution_count": 4,
   "metadata": {
    "collapsed": true
   },
   "outputs": [],
   "source": [
    "sess = tf.InteractiveSession()\n",
    "with tf.name_scope('summary'):\n",
    "    tf.summary.scalar('accuracy', accuracy)\n",
    "    tf.summary.scalar('loss', loss)\n",
    "    merged = tf.summary.merge_all()\n",
    "    writer = tf.summary.FileWriter('./logs', sess.graph)"
   ]
  },
  {
   "cell_type": "code",
   "execution_count": 6,
   "metadata": {},
   "outputs": [
    {
     "name": "stdout",
     "output_type": "stream",
     "text": [
      "step: 0, loss: 152.791260, acc: 0.510000, test: 0.308400\n",
      "step: 100, loss: 23.199965, acc: 0.920000, test: 0.898700\n",
      "step: 200, loss: 16.646893, acc: 0.950000, test: 0.937100\n",
      "step: 300, loss: 9.637720, acc: 0.970000, test: 0.942000\n",
      "step: 400, loss: 11.808620, acc: 0.960000, test: 0.946500\n",
      "step: 500, loss: 7.923934, acc: 0.980000, test: 0.954100\n",
      "step: 600, loss: 7.571517, acc: 0.980000, test: 0.954600\n",
      "step: 700, loss: 5.096427, acc: 1.000000, test: 0.958600\n",
      "step: 800, loss: 5.170148, acc: 0.990000, test: 0.960400\n",
      "step: 900, loss: 4.521872, acc: 0.990000, test: 0.964400\n",
      "step: 1000, loss: 8.702643, acc: 0.980000, test: 0.962500\n",
      "step: 1100, loss: 8.888043, acc: 0.990000, test: 0.964300\n",
      "step: 1200, loss: 5.311965, acc: 0.970000, test: 0.963000\n",
      "step: 1300, loss: 2.490308, acc: 0.990000, test: 0.968900\n",
      "step: 1400, loss: 1.369987, acc: 1.000000, test: 0.965100\n",
      "step: 1500, loss: 1.640198, acc: 0.990000, test: 0.967400\n",
      "step: 1600, loss: 7.316021, acc: 0.990000, test: 0.965900\n",
      "step: 1700, loss: 8.160069, acc: 0.980000, test: 0.967800\n",
      "step: 1800, loss: 2.209436, acc: 0.990000, test: 0.968300\n",
      "step: 1900, loss: 12.033007, acc: 0.970000, test: 0.968900\n"
     ]
    }
   ],
   "source": [
    "sess.run(tf.global_variables_initializer())\n",
    "train_p = []\n",
    "test_p = []\n",
    "steps = []\n",
    "i = 0\n",
    "for _ in range(2000):\n",
    "    batch_xs, batch_ts = mnist.train.next_batch(100)\n",
    "    __, summary = sess.run([train_step, merged], feed_dict={x: batch_xs, t: batch_ts})\n",
    "    \n",
    "    if i % 100 == 0:\n",
    "        loss_val, acc_val = sess.run([loss, accuracy], feed_dict = {x: batch_xs, t: batch_ts})\n",
    "        train_p.append(acc_val)\n",
    "        test_p.append(sess.run(accuracy, feed_dict={x: mnist.test.images, t: mnist.test.labels}))\n",
    "        steps.append(i/100)\n",
    "        test_acc = sess.run(accuracy, feed_dict={x: mnist.test.images, t: mnist.test.labels})\n",
    "        writer.add_summary(summary, _)\n",
    "        print(\"step: %d, loss: %f, acc: %f, test: %f\" % (i, loss_val, acc_val, test_acc))\n",
    "    i += 1"
   ]
  },
  {
   "cell_type": "code",
   "execution_count": 7,
   "metadata": {},
   "outputs": [
    {
     "data": {
      "text/plain": [
       "[<matplotlib.lines.Line2D at 0xd033908>]"
      ]
     },
     "execution_count": 7,
     "metadata": {},
     "output_type": "execute_result"
    },
    {
     "data": {
      "image/png": "[encoded data removed]",
      "text/plain": [
       "<matplotlib.figure.Figure at 0xd0337f0>"
      ]
     },
     "metadata": {},
     "output_type": "display_data"
    }
   ],
   "source": [
    "plt.plot(steps, train_p)\n",
    "plt.plot(steps, test_p)"
   ]
  },
  {
   "cell_type": "code",
   "execution_count": 9,
   "metadata": {},
   "outputs": [
    {
     "name": "stdout",
     "output_type": "stream",
     "text": [
      "0.8\n"
     ]
    },
    {
     "data": {
      "image/png": "[encoded data removed]",
      "text/plain": [
       "<matplotlib.figure.Figure at 0x11104278>"
      ]
     },
     "metadata": {},
     "output_type": "display_data"
    }
   ],
   "source": [
    "from PIL import Image\n",
    "import os\n",
    "filenames = os.listdir('./sample/test_samples')\n",
    "c = 1\n",
    "fig = plt.figure(figsize=(6, 5))\n",
    "labels = []\n",
    "imgs = []\n",
    "for name in filenames:\n",
    "    img = Image.open(\"./sample/test_samples/\" + name).convert('L')\n",
    "    img.thumbnail((28, 28))\n",
    "    img = np.array(img, dtype=np.float32)\n",
    "    img = 1-np.array(img / 255)\n",
    "    img = img.reshape(1, 784)\n",
    "    imgs.append(img)\n",
    "    label = np.array([0,0,0,0,0,0,0,0,0,0])\n",
    "    label[c-1] = 1\n",
    "    labels.append(label)\n",
    "    test_p = sess.run(p, feed_dict={x: img})\n",
    "    subplot = fig.add_subplot(2, 5, c)\n",
    "    subplot.set_xticks([])\n",
    "    subplot.set_yticks([])\n",
    "    subplot.set_title('%d' % (np.argmax(test_p)))\n",
    "    subplot.imshow(img.reshape((28, 28)), vmin=0, vmax = 1, cmap=plt.cm.gray_r, interpolation=\"nearest\")\n",
    "    c += 1\n",
    "print(sess.run(accuracy, feed_dict={x: np.array(imgs).reshape((10, 784)), t: labels}))"
   ]
  },
  {
   "cell_type": "code",
   "execution_count": null,
   "metadata": {
    "collapsed": true
   },
   "outputs": [],
   "source": []
  },
  {
   "cell_type": "code",
   "execution_count": null,
   "metadata": {
    "collapsed": true
   },
   "outputs": [],
   "source": []
  },
  {
   "cell_type": "code",
   "execution_count": null,
   "metadata": {
    "collapsed": true
   },
   "outputs": [],
   "source": []
  },
  {
   "cell_type": "code",
   "execution_count": 14,
   "metadata": {},
   "outputs": [
    {
     "ename": "AttributeError",
     "evalue": "'Datasets' object has no attribute 'images'",
     "output_type": "error",
     "traceback": [
      "\u001b[1;31m---------------------------------------------------------------------------\u001b[0m",
      "\u001b[1;31mAttributeError\u001b[0m                            Traceback (most recent call last)",
      "\u001b[1;32m<ipython-input-14-8d7974b7c8af>\u001b[0m in \u001b[0;36m<module>\u001b[1;34m()\u001b[0m\n\u001b[1;32m----> 1\u001b[1;33m \u001b[0msess\u001b[0m\u001b[1;33m.\u001b[0m\u001b[0mrun\u001b[0m\u001b[1;33m(\u001b[0m\u001b[0maccuracy\u001b[0m\u001b[1;33m,\u001b[0m \u001b[0mfeed_dict\u001b[0m\u001b[1;33m=\u001b[0m\u001b[1;33m{\u001b[0m\u001b[0mx\u001b[0m\u001b[1;33m:\u001b[0m \u001b[0mmnist\u001b[0m\u001b[1;33m.\u001b[0m\u001b[0mtest\u001b[0m\u001b[1;33m.\u001b[0m\u001b[0mimages\u001b[0m\u001b[1;33m,\u001b[0m \u001b[0mt\u001b[0m\u001b[1;33m:\u001b[0m \u001b[0mmnist\u001b[0m\u001b[1;33m.\u001b[0m\u001b[0mimages\u001b[0m\u001b[1;33m.\u001b[0m\u001b[0mlabels\u001b[0m\u001b[1;33m}\u001b[0m\u001b[1;33m)\u001b[0m\u001b[1;33m\u001b[0m\u001b[0m\n\u001b[0m",
      "\u001b[1;31mAttributeError\u001b[0m: 'Datasets' object has no attribute 'images'"
     ]
    }
   ],
   "source": [
    "sess.run(accuracy, feed_dict={x: mnist.test.images, t: mnist.images.labels})"
   ]
  },
  {
   "cell_type": "code",
   "execution_count": null,
   "metadata": {
    "collapsed": true
   },
   "outputs": [],
   "source": []
  },
  {
   "cell_type": "code",
   "execution_count": 13,
   "metadata": {},
   "outputs": [
    {
     "data": {
      "text/plain": [
       "array([[ 0.,  0.,  0., ...,  0.,  0.,  0.],\n",
       "       [ 0.,  0.,  0., ...,  0.,  0.,  0.],\n",
       "       [ 0.,  0.,  0., ...,  0.,  0.,  0.],\n",
       "       ..., \n",
       "       [ 0.,  0.,  0., ...,  0.,  0.,  0.],\n",
       "       [ 0.,  0.,  0., ...,  0.,  0.,  0.],\n",
       "       [ 0.,  0.,  0., ...,  0.,  0.,  0.]], dtype=float32)"
      ]
     },
     "execution_count": 13,
     "metadata": {},
     "output_type": "execute_result"
    }
   ],
   "source": [
    "mnist.test.images"
   ]
  },
  {
   "cell_type": "code",
   "execution_count": null,
   "metadata": {
    "collapsed": true
   },
   "outputs": [],
   "source": []
  },
  {
   "cell_type": "code",
   "execution_count": null,
   "metadata": {
    "collapsed": true
   },
   "outputs": [],
   "source": []
  },
  {
   "cell_type": "code",
   "execution_count": null,
   "metadata": {
    "collapsed": true
   },
   "outputs": [],
   "source": []
  },
  {
   "cell_type": "code",
   "execution_count": null,
   "metadata": {
    "collapsed": true
   },
   "outputs": [],
   "source": []
  },
  {
   "cell_type": "code",
   "execution_count": 28,
   "metadata": {},
   "outputs": [
    {
     "data": {
      "text/plain": [
       "[<matplotlib.lines.Line2D at 0x1296b898>]"
      ]
     },
     "execution_count": 28,
     "metadata": {},
     "output_type": "execute_result"
    },
    {
     "data": {
      "image/png": "[encoded data removed]",
      "text/plain": [
       "<matplotlib.figure.Figure at 0x12279908>"
      ]
     },
     "metadata": {},
     "output_type": "display_data"
    }
   ],
   "source": [
    "x = np.linspace(-10,10,100)\n",
    "y = np.maximum(0, x)\n",
    "plt.plot(x, y)"
   ]
  }
 ],
 "metadata": {
  "kernelspec": {
   "display_name": "Python 3",
   "language": "python",
   "name": "python3"
  },
  "language_info": {
   "codemirror_mode": {
    "name": "ipython",
    "version": 3
   },
   "file_extension": ".py",
   "mimetype": "text/x-python",
   "name": "python",
   "nbconvert_exporter": "python",
   "pygments_lexer": "ipython3",
   "version": "3.6.1"
  }
 },
 "nbformat": 4,
 "nbformat_minor": 2
}
