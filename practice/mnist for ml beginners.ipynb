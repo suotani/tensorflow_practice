{
 "cells": [
  {
   "cell_type": "code",
   "execution_count": 2,
   "metadata": {
    "collapsed": true
   },
   "outputs": [],
   "source": [
    "import tensorflow as tf\n",
    "import numpy as np\n",
    "import matplotlib.pyplot as plt\n",
    "from tensorflow.examples.tutorials.mnist import input_data\n",
    "%matplotlib inline\n",
    "\n",
    "np.random.seed(20171001)"
   ]
  },
  {
   "cell_type": "code",
   "execution_count": 3,
   "metadata": {},
   "outputs": [
    {
     "name": "stdout",
     "output_type": "stream",
     "text": [
      "Extracting ./data/train-images-idx3-ubyte.gz\n",
      "Extracting ./data/train-labels-idx1-ubyte.gz\n",
      "Extracting ./data/t10k-images-idx3-ubyte.gz\n",
      "Extracting ./data/t10k-labels-idx1-ubyte.gz\n"
     ]
    }
   ],
   "source": [
    "mnist = input_data.read_data_sets(\"./data/\", one_hot=True)"
   ]
  },
  {
   "cell_type": "code",
   "execution_count": 4,
   "metadata": {
    "collapsed": true
   },
   "outputs": [],
   "source": [
    "with tf.name_scope('X'):\n",
    "    x = tf.placeholder(tf.float32, [None, 784])\n",
    "with tf.name_scope('W'):\n",
    "    w = tf.Variable(tf.zeros([784, 10]))\n",
    "with tf.name_scope('W0'):\n",
    "    w0 = tf.Variable(tf.zeros([10]))\n",
    "with tf.name_scope('P'):\n",
    "    f = tf.matmul(x, w) + w0\n",
    "    p = tf.nn.softmax(f)\n",
    "with tf.name_scope('T'):\n",
    "    t = tf.placeholder(tf.float32, [None, 10])"
   ]
  },
  {
   "cell_type": "code",
   "execution_count": 5,
   "metadata": {
    "collapsed": true
   },
   "outputs": [],
   "source": [
    "with tf.name_scope('Loss'):\n",
    "    loss = -tf.reduce_sum(t * tf.log(p))\n",
    "with tf.name_scope('Train'):\n",
    "    train_step = tf.train.AdamOptimizer().minimize(loss)\n",
    "with tf.name_scope('Acc'):\n",
    "    correct_prediction =  tf.equal(tf.argmax(p, 1), tf.argmax(t, 1))\n",
    "    accuracy = tf.reduce_mean(tf.cast(correct_prediction, tf.float32))"
   ]
  },
  {
   "cell_type": "code",
   "execution_count": 6,
   "metadata": {},
   "outputs": [],
   "source": [
    "sess = tf.InteractiveSession()\n",
    "# TensorBoardで追跡する変数を定義\n",
    "with tf.name_scope('summary'):\n",
    "    tf.summary.scalar('accuracy', accuracy)\n",
    "    tf.summary.scalar('loss', loss)\n",
    "    merged = tf.summary.merge_all()\n",
    "    writer = tf.summary.FileWriter('./logs', sess.graph)"
   ]
  },
  {
   "cell_type": "code",
   "execution_count": 7,
   "metadata": {},
   "outputs": [
    {
     "name": "stdout",
     "output_type": "stream",
     "text": [
      "step: 0, loss: 223.985809, acc: 0.660000\n",
      "step: 1000, loss: 29.865761, acc: 0.940000\n",
      "step: 2000, loss: 23.189945, acc: 0.940000\n",
      "step: 3000, loss: 21.770950, acc: 0.930000\n",
      "step: 4000, loss: 27.166721, acc: 0.930000\n",
      "step: 5000, loss: 12.877014, acc: 0.960000\n",
      "step: 6000, loss: 24.910049, acc: 0.940000\n",
      "step: 7000, loss: 32.637718, acc: 0.920000\n",
      "step: 8000, loss: 21.756659, acc: 0.910000\n",
      "step: 9000, loss: 17.761646, acc: 0.950000\n",
      "step: 10000, loss: 32.827740, acc: 0.940000\n",
      "step: 11000, loss: 16.983624, acc: 0.960000\n",
      "step: 12000, loss: 34.675030, acc: 0.910000\n",
      "step: 13000, loss: 35.197178, acc: 0.910000\n",
      "step: 14000, loss: 15.975695, acc: 0.970000\n",
      "step: 15000, loss: 43.970688, acc: 0.930000\n",
      "step: 16000, loss: 47.713184, acc: 0.890000\n",
      "step: 17000, loss: 23.415329, acc: 0.930000\n",
      "step: 18000, loss: 15.774624, acc: 0.940000\n",
      "step: 19000, loss: 20.181698, acc: 0.950000\n"
     ]
    }
   ],
   "source": [
    "sess.run(tf.global_variables_initializer())\n",
    "train_p = []\n",
    "test_p = []\n",
    "steps = []\n",
    "i = 0\n",
    "for _ in range(20000):\n",
    "    batch_xs, batch_ts = mnist.train.next_batch(100)\n",
    "    __, summary = sess.run([train_step, merged], feed_dict={x: batch_xs, t: batch_ts})\n",
    "    \n",
    "    if i % 1000 == 0:\n",
    "        loss_val, acc_val = sess.run([loss, accuracy], feed_dict = {x: batch_xs, t: batch_ts})\n",
    "        train_p.append(acc_val)\n",
    "        test_p.append(sess.run(accuracy, feed_dict={x: mnist.test.images, t: mnist.test.labels}))\n",
    "        steps.append(i/1000)\n",
    "        writer.add_summary(summary, _)\n",
    "        print(\"step: %d, loss: %f, acc: %f\" % (i, loss_val, acc_val))\n",
    "    i += 1"
   ]
  },
  {
   "cell_type": "code",
   "execution_count": 8,
   "metadata": {},
   "outputs": [
    {
     "data": {
      "text/plain": [
       "[<matplotlib.lines.Line2D at 0x104e45f8>]"
      ]
     },
     "execution_count": 8,
     "metadata": {},
     "output_type": "execute_result"
    },
    {
     "data": {
      "image/png": "[encoded data removed]",
      "text/plain": [
       "<matplotlib.figure.Figure at 0x10b7aeb8>"
      ]
     },
     "metadata": {},
     "output_type": "display_data"
    }
   ],
   "source": [
    "plt.plot(steps, train_p)\n",
    "plt.plot(steps, test_p)"
   ]
  },
  {
   "cell_type": "code",
   "execution_count": 9,
   "metadata": {
    "collapsed": true
   },
   "outputs": [],
   "source": [
    "from PIL import Image\n",
    "import os"
   ]
  },
  {
   "cell_type": "code",
   "execution_count": 61,
   "metadata": {},
   "outputs": [
    {
     "name": "stdout",
     "output_type": "stream",
     "text": [
      "0.2\n"
     ]
    },
    {
     "data": {
      "image/png": "[encoded data removed]",
      "text/plain": [
       "<matplotlib.figure.Figure at 0x144c9400>"
      ]
     },
     "metadata": {},
     "output_type": "display_data"
    }
   ],
   "source": [
    "filenames = os.listdir('./sample/test_samples')\n",
    "c = 1\n",
    "fig = plt.figure(figsize=(4, 7))\n",
    "label = np.array([0,1,2,3,4,5,6,7,8,9])\n",
    "labels = []\n",
    "imgs = []\n",
    "for name in filenames:\n",
    "    img = Image.open(\"./sample/test_samples/\" + name).convert('L')\n",
    "    img.thumbnail((28, 28))\n",
    "    img = np.array(img, dtype=np.float32)\n",
    "    img = 1-np.array(img / 255)\n",
    "    img = img.reshape(1, 784)\n",
    "    imgs.append(img)\n",
    "    label = np.array([0,0,0,0,0,0,0,0,0,0])\n",
    "    label[c-1] = 1\n",
    "    labels.append(label)\n",
    "    test_p = sess.run(p, feed_dict={x: img})\n",
    "    subplot = fig.add_subplot(5, 2, c)\n",
    "    subplot.set_xticks([])\n",
    "    subplot.set_yticks([])\n",
    "    subplot.set_title('%d/%d' % (np.argmax(test_p), np.argmax(labels[c-1])))\n",
    "    subplot.imshow(img.reshape((28, 28)), vmin=0, vmax = 1, cmap=plt.cm.gray_r, interpolation=\"nearest\")\n",
    "    c += 1\n",
    "print(sess.run(accuracy, feed_dict={x: np.array(imgs).reshape((10, 784)), t: labels}))"
   ]
  },
  {
   "cell_type": "code",
   "execution_count": 13,
   "metadata": {},
   "outputs": [
    {
     "data": {
      "text/plain": [
       "0.92729998"
      ]
     },
     "execution_count": 13,
     "metadata": {},
     "output_type": "execute_result"
    }
   ],
   "source": [
    "sess.run(accuracy, feed_dict={x: mnist.test.images, t: mnist.test.labels})"
   ]
  }
 ],
 "metadata": {
  "kernelspec": {
   "display_name": "Python 3",
   "language": "python",
   "name": "python3"
  },
  "language_info": {
   "codemirror_mode": {
    "name": "ipython",
    "version": 3
   },
   "file_extension": ".py",
   "mimetype": "text/x-python",
   "name": "python",
   "nbconvert_exporter": "python",
   "pygments_lexer": "ipython3",
   "version": "3.6.1"
  }
 },
 "nbformat": 4,
 "nbformat_minor": 2
}
