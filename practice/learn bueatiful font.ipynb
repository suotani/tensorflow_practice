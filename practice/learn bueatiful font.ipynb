{
 "cells": [
  {
   "cell_type": "code",
   "execution_count": 1,
   "metadata": {},
   "outputs": [
    {
     "name": "stdout",
     "output_type": "stream",
     "text": [
      "Extracting ./data/train-images-idx3-ubyte.gz\n",
      "Extracting ./data/train-labels-idx1-ubyte.gz\n",
      "Extracting ./data/t10k-images-idx3-ubyte.gz\n",
      "Extracting ./data/t10k-labels-idx1-ubyte.gz\n"
     ]
    }
   ],
   "source": [
    "import tensorflow as tf\n",
    "import numpy as np\n",
    "import matplotlib.pyplot as plt\n",
    "from tensorflow.examples.tutorials.mnist import input_data\n",
    "%matplotlib inline\n",
    "\n",
    "np.random.seed(20171001)\n",
    "tf.set_random_seed(20171001)\n",
    "mnist = input_data.read_data_sets(\"./data/\", one_hot=True)"
   ]
  },
  {
   "cell_type": "code",
   "execution_count": 12,
   "metadata": {
    "collapsed": true
   },
   "outputs": [],
   "source": [
    "hidden_size = 600\n",
    "x = tf.placeholder(tf.float32, [None, 784])\n",
    "w1 = tf.Variable(tf.truncated_normal([784, hidden_size]))\n",
    "b1 = tf.Variable(tf.zeros([hidden_size]))\n",
    "h =  tf.nn.relu(tf.matmul(x,w1) + b1)\n",
    "\n",
    "w0 = tf.Variable(tf.zeros([hidden_size, 784]))\n",
    "b0 = tf.Variable(tf.zeros([784]))\n",
    "y = tf.matmul(h, w0) + b0\n",
    "\n",
    "t = tf.placeholder(tf.float32, [None, 784])"
   ]
  },
  {
   "cell_type": "code",
   "execution_count": 13,
   "metadata": {},
   "outputs": [],
   "source": [
    "loss = tf.reduce_sum(tf.square(t-y))\n",
    "train_step = tf.train.AdamOptimizer().minimize(loss)"
   ]
  },
  {
   "cell_type": "code",
   "execution_count": 14,
   "metadata": {},
   "outputs": [],
   "source": [
    "from PIL import Image\n",
    "import os\n",
    "filenames = os.listdir('./teacher')\n",
    "imgs = []\n",
    "for name in filenames:\n",
    "    img = Image.open('./teacher/' + name).convert('L')\n",
    "    img.thumbnail((28, 28))\n",
    "    img = np.array(img, dtype=np.float32)\n",
    "    img = 1-np.array(img / 255)\n",
    "    img = img.reshape(1, 784)\n",
    "    imgs.append(img)\n",
    "imgs = np.array(imgs)\n",
    "def label2im(labels):\n",
    "    limgs = []\n",
    "    for label in labels:\n",
    "        limgs.append(imgs[np.argmax(label)])\n",
    "    return np.array(limgs).reshape((-1, 784))"
   ]
  },
  {
   "cell_type": "code",
   "execution_count": 15,
   "metadata": {},
   "outputs": [
    {
     "name": "stdout",
     "output_type": "stream",
     "text": [
      "step: 0, loss: 62865.031250\n",
      "step: 100, loss: 699.492188\n",
      "step: 200, loss: 707.035034\n",
      "step: 300, loss: 542.810913\n",
      "step: 400, loss: 553.726013\n",
      "step: 500, loss: 608.770447\n",
      "step: 600, loss: 488.681213\n",
      "step: 700, loss: 458.898560\n",
      "step: 800, loss: 496.129456\n",
      "step: 900, loss: 354.954071\n",
      "step: 1000, loss: 465.497559\n",
      "step: 1100, loss: 395.541077\n",
      "step: 1200, loss: 517.371338\n",
      "step: 1300, loss: 400.064911\n",
      "step: 1400, loss: 422.114807\n",
      "step: 1500, loss: 441.068237\n",
      "step: 1600, loss: 381.640320\n",
      "step: 1700, loss: 443.233795\n",
      "step: 1800, loss: 432.948792\n",
      "step: 1900, loss: 296.832916\n"
     ]
    }
   ],
   "source": [
    "sess = tf.InteractiveSession()\n",
    "sess.run(tf.global_variables_initializer())\n",
    "i = 0\n",
    "for _ in range(2000):\n",
    "    batch_xs, batch_ts = mnist.train.next_batch(100)\n",
    "    batch_ts = label2im(batch_ts)\n",
    "    sess.run(train_step, feed_dict={x: batch_xs, t: batch_ts})\n",
    "    if i % 100 == 0:\n",
    "        loss_val = sess.run(loss, feed_dict = {x: batch_xs, t: batch_ts})\n",
    "        print(\"step: %d, loss: %f\" % (i, loss_val))\n",
    "    i += 1"
   ]
  },
  {
   "cell_type": "code",
   "execution_count": 22,
   "metadata": {},
   "outputs": [
    {
     "data": {
      "image/png": "[encoded data removed]",
      "text/plain": [
       "<matplotlib.figure.Figure at 0x1ba884e0>"
      ]
     },
     "metadata": {},
     "output_type": "display_data"
    }
   ],
   "source": [
    "from PIL import Image\n",
    "import os\n",
    "filenames = os.listdir('./sample/test_samples')\n",
    "c = 1\n",
    "fig = plt.figure(figsize=(6, 8))\n",
    "labels = []\n",
    "imgs = []\n",
    "for name in filenames:\n",
    "    img = Image.open(\"./sample/test_samples/\" + name).convert('L')\n",
    "    img.thumbnail((28, 28))\n",
    "    img = np.array(img, dtype=np.float32)\n",
    "    img = 1-np.array(img / 255)\n",
    "    img = img.reshape(1, 784)\n",
    "    res = sess.run(y, feed_dict={x: img})[0]\n",
    "    res = res - res[np.argmin(res)]\n",
    "    res = res / res[np.argmax(res)]\n",
    "\n",
    "    subplot = fig.add_subplot(5, 4, 2 * c - 1)\n",
    "    subplot.set_xticks([])\n",
    "    subplot.set_yticks([])\n",
    "    subplot.set_title('before:%d' % (c-1))\n",
    "    subplot.imshow(img.reshape((28, 28)), vmin=0, vmax = 1, cmap=plt.cm.gray_r, interpolation=\"nearest\")\n",
    "    \n",
    "    subplot = fig.add_subplot(5, 4, 2*c)\n",
    "    subplot.set_xticks([])\n",
    "    subplot.set_yticks([])\n",
    "    subplot.set_title('after:%d' % (c-1))\n",
    "    subplot.imshow(res.reshape((28, 28)), vmin=0, vmax = 1, cmap=plt.cm.gray_r, interpolation=\"nearest\")\n",
    "    c += 1"
   ]
  },
  {
   "cell_type": "code",
   "execution_count": null,
   "metadata": {
    "collapsed": true
   },
   "outputs": [],
   "source": []
  }
 ],
 "metadata": {
  "kernelspec": {
   "display_name": "Python 3",
   "language": "python",
   "name": "python3"
  },
  "language_info": {
   "codemirror_mode": {
    "name": "ipython",
    "version": 3
   },
   "file_extension": ".py",
   "mimetype": "text/x-python",
   "name": "python",
   "nbconvert_exporter": "python",
   "pygments_lexer": "ipython3",
   "version": "3.6.1"
  }
 },
 "nbformat": 4,
 "nbformat_minor": 2
}
