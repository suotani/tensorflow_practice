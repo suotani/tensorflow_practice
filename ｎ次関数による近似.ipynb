{
 "cells": [
  {
   "cell_type": "code",
   "execution_count": 1,
   "metadata": {
    "collapsed": true
   },
   "outputs": [],
   "source": [
    "import tensorflow as tf\n",
    "import numpy as np\n",
    "import matplotlib.pyplot as plt"
   ]
  },
  {
   "cell_type": "code",
   "execution_count": 59,
   "metadata": {
    "collapsed": true
   },
   "outputs": [],
   "source": [
    "dim = 5\n",
    "x = tf.placeholder(tf.float32, [None, dim + 1])\n",
    "w = tf.Variable(tf.zeros([dim+1,1]))\n",
    "y = tf.matmul(x,w)\n",
    "t = tf.placeholder(tf.float32, [None, 1])"
   ]
  },
  {
   "cell_type": "code",
   "execution_count": 60,
   "metadata": {
    "collapsed": true
   },
   "outputs": [],
   "source": [
    "loss = tf.reduce_sum(tf.square(y - t))"
   ]
  },
  {
   "cell_type": "code",
   "execution_count": 62,
   "metadata": {
    "collapsed": true
   },
   "outputs": [],
   "source": [
    "train_step = tf.train.AdamOptimizer().minimize(loss)"
   ]
  },
  {
   "cell_type": "code",
   "execution_count": 63,
   "metadata": {},
   "outputs": [
    {
     "data": {
      "text/plain": [
       "array([[     1,      1,      1,      1,      1,      1],\n",
       "       [     1,      2,      4,      8,     16,     32],\n",
       "       [     1,      3,      9,     27,     81,    243],\n",
       "       [     1,      4,     16,     64,    256,   1024],\n",
       "       [     1,      5,     25,    125,    625,   3125],\n",
       "       [     1,      6,     36,    216,   1296,   7776],\n",
       "       [     1,      7,     49,    343,   2401,  16807],\n",
       "       [     1,      8,     64,    512,   4096,  32768],\n",
       "       [     1,      9,     81,    729,   6561,  59049],\n",
       "       [     1,     10,    100,   1000,  10000, 100000],\n",
       "       [     1,     11,    121,   1331,  14641, 161051],\n",
       "       [     1,     12,    144,   1728,  20736, 248832]])"
      ]
     },
     "execution_count": 63,
     "metadata": {},
     "output_type": "execute_result"
    }
   ],
   "source": [
    "sess = tf.Session()\n",
    "sess.run(tf.global_variables_initializer())\n",
    "train_t = np.array([5.2, 5.7, 8.6, 14.9, 18.2, 20.4,25.5, 26.4, 22.8, 17.5, 11.1, 6.6])\n",
    "train_t = train_t.reshape([12,1])\n",
    "train_x = np.zeros([12, dim+1])\n",
    "for row, month in enumerate(range(1, 13)):\n",
    "    for col, n in enumerate(range(0, dim+1)):\n",
    "        train_x[row][col] = month**n\n",
    "train_x = np.array(list(map(int, train_x.reshape(12 * (dim+1))))).reshape(12, (dim+1))\n",
    "train_x"
   ]
  },
  {
   "cell_type": "code",
   "execution_count": 64,
   "metadata": {},
   "outputs": [
    {
     "name": "stdout",
     "output_type": "stream",
     "text": [
      "Step: 10000, Loss: 148.166351\n",
      "Step: 20000, Loss: 15.954622\n",
      "Step: 30000, Loss: 22.393147\n",
      "Step: 40000, Loss: 14.940109\n",
      "Step: 50000, Loss: 19.477217\n",
      "Step: 60000, Loss: 14.174248\n",
      "Step: 70000, Loss: 16.246559\n",
      "Step: 80000, Loss: 13.714673\n",
      "Step: 90000, Loss: 13.171707\n",
      "Step: 100000, Loss: 12.882786\n"
     ]
    }
   ],
   "source": [
    "i = 0\n",
    "for _ in range(100000):\n",
    "    i += 1\n",
    "    sess.run(train_step, feed_dict={x: train_x, t: train_t})\n",
    "    if i % 10000 == 0:\n",
    "        loss_val = sess.run(loss, feed_dict={x: train_x, t: train_t})\n",
    "        print('Step: %d, Loss: %f' % (i, loss_val))"
   ]
  },
  {
   "cell_type": "code",
   "execution_count": 65,
   "metadata": {},
   "outputs": [
    {
     "data": {
      "text/plain": [
       "array([[  2.71743512e+00],\n",
       "       [  5.46409070e-01],\n",
       "       [  4.07744259e-01],\n",
       "       [  1.37235641e-01],\n",
       "       [ -2.87472513e-02],\n",
       "       [  1.19350769e-03]], dtype=float32)"
      ]
     },
     "execution_count": 65,
     "metadata": {},
     "output_type": "execute_result"
    }
   ],
   "source": [
    "w_val = sess.run(w)\n",
    "w_val"
   ]
  },
  {
   "cell_type": "code",
   "execution_count": 66,
   "metadata": {
    "collapsed": true
   },
   "outputs": [],
   "source": [
    "def predict(x):\n",
    "    result = 0.0\n",
    "    for n in range(0,dim+1):\n",
    "        result += w_val[n][0] * x ** n\n",
    "    return result"
   ]
  },
  {
   "cell_type": "code",
   "execution_count": 67,
   "metadata": {},
   "outputs": [
    {
     "data": {
      "text/plain": [
       "[<matplotlib.lines.Line2D at 0xe8de048>]"
      ]
     },
     "execution_count": 67,
     "metadata": {},
     "output_type": "execute_result"
    },
    {
     "data": {
      "image/png": "[encoded data removed]",
      "text/plain": [
       "<matplotlib.figure.Figure at 0xe7bf1d0>"
      ]
     },
     "metadata": {},
     "output_type": "display_data"
    }
   ],
   "source": [
    "%matplotlib inline\n",
    "fig = plt.figure()\n",
    "subplot=fig.add_subplot(1,1,1)\n",
    "subplot.set_xlim(1,12)\n",
    "subplot.scatter(range(1,13), train_t)\n",
    "linex = np.linspace(1,12,100)\n",
    "liney = predict(linex)\n",
    "subplot.plot(linex, liney)"
   ]
  },
  {
   "cell_type": "code",
   "execution_count": null,
   "metadata": {
    "collapsed": true
   },
   "outputs": [],
   "source": []
  }
 ],
 "metadata": {
  "celltoolbar": "Raw Cell Format",
  "kernelspec": {
   "display_name": "Python 3",
   "language": "python",
   "name": "python3"
  },
  "language_info": {
   "codemirror_mode": {
    "name": "ipython",
    "version": 3
   },
   "file_extension": ".py",
   "mimetype": "text/x-python",
   "name": "python",
   "nbconvert_exporter": "python",
   "pygments_lexer": "ipython3",
   "version": "3.6.1"
  }
 },
 "nbformat": 4,
 "nbformat_minor": 2
}
